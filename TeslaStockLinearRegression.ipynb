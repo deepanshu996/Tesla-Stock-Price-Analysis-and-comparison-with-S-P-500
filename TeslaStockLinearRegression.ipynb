{
 "cells": [
  {
   "cell_type": "code",
   "execution_count": 1,
   "metadata": {},
   "outputs": [],
   "source": [
    "import pandas as pd\n",
    "import matplotlib.pyplot as plt\n",
    "import numpy as np\n",
    "from sklearn.linear_model import LinearRegression\n",
    "from sklearn.model_selection import train_test_split\n",
    "import sklearn.metrics as metrics\n",
    "import math"
   ]
  },
  {
   "cell_type": "code",
   "execution_count": 2,
   "metadata": {},
   "outputs": [],
   "source": [
    "df = pd.read_csv('/Users/deepanshu/Documents/Semester 3/Bloomberg/Dataset/tesla_dataset.csv')"
   ]
  },
  {
   "cell_type": "code",
   "execution_count": 3,
   "metadata": {
    "scrolled": true
   },
   "outputs": [
    {
     "data": {
      "text/html": [
       "<div>\n",
       "<style scoped>\n",
       "    .dataframe tbody tr th:only-of-type {\n",
       "        vertical-align: middle;\n",
       "    }\n",
       "\n",
       "    .dataframe tbody tr th {\n",
       "        vertical-align: top;\n",
       "    }\n",
       "\n",
       "    .dataframe thead th {\n",
       "        text-align: right;\n",
       "    }\n",
       "</style>\n",
       "<table border=\"1\" class=\"dataframe\">\n",
       "  <thead>\n",
       "    <tr style=\"text-align: right;\">\n",
       "      <th></th>\n",
       "      <th>Date</th>\n",
       "      <th>Last Price</th>\n",
       "      <th>Open Price</th>\n",
       "      <th>High Price</th>\n",
       "      <th>Low Price</th>\n",
       "      <th>Volume</th>\n",
       "    </tr>\n",
       "  </thead>\n",
       "  <tbody>\n",
       "    <tr>\n",
       "      <th>0</th>\n",
       "      <td>5/13/2022</td>\n",
       "      <td>769.59</td>\n",
       "      <td>773.48</td>\n",
       "      <td>787.35</td>\n",
       "      <td>751.565</td>\n",
       "      <td>30716908</td>\n",
       "    </tr>\n",
       "    <tr>\n",
       "      <th>1</th>\n",
       "      <td>5/12/2022</td>\n",
       "      <td>728.00</td>\n",
       "      <td>701.00</td>\n",
       "      <td>759.66</td>\n",
       "      <td>680.000</td>\n",
       "      <td>46770952</td>\n",
       "    </tr>\n",
       "    <tr>\n",
       "      <th>2</th>\n",
       "      <td>5/11/2022</td>\n",
       "      <td>734.00</td>\n",
       "      <td>795.00</td>\n",
       "      <td>809.77</td>\n",
       "      <td>727.200</td>\n",
       "      <td>32408152</td>\n",
       "    </tr>\n",
       "    <tr>\n",
       "      <th>3</th>\n",
       "      <td>5/10/2022</td>\n",
       "      <td>800.04</td>\n",
       "      <td>819.31</td>\n",
       "      <td>825.36</td>\n",
       "      <td>774.250</td>\n",
       "      <td>28133876</td>\n",
       "    </tr>\n",
       "    <tr>\n",
       "      <th>4</th>\n",
       "      <td>5/9/2022</td>\n",
       "      <td>787.11</td>\n",
       "      <td>836.45</td>\n",
       "      <td>845.63</td>\n",
       "      <td>781.150</td>\n",
       "      <td>30270074</td>\n",
       "    </tr>\n",
       "    <tr>\n",
       "      <th>5</th>\n",
       "      <td>5/6/2022</td>\n",
       "      <td>865.65</td>\n",
       "      <td>887.00</td>\n",
       "      <td>888.00</td>\n",
       "      <td>843.105</td>\n",
       "      <td>24301036</td>\n",
       "    </tr>\n",
       "    <tr>\n",
       "      <th>6</th>\n",
       "      <td>5/5/2022</td>\n",
       "      <td>873.28</td>\n",
       "      <td>939.21</td>\n",
       "      <td>945.60</td>\n",
       "      <td>857.700</td>\n",
       "      <td>30839732</td>\n",
       "    </tr>\n",
       "    <tr>\n",
       "      <th>7</th>\n",
       "      <td>5/4/2022</td>\n",
       "      <td>952.62</td>\n",
       "      <td>903.94</td>\n",
       "      <td>955.50</td>\n",
       "      <td>885.280</td>\n",
       "      <td>27214568</td>\n",
       "    </tr>\n",
       "    <tr>\n",
       "      <th>8</th>\n",
       "      <td>5/3/2022</td>\n",
       "      <td>909.25</td>\n",
       "      <td>903.18</td>\n",
       "      <td>924.08</td>\n",
       "      <td>888.590</td>\n",
       "      <td>21236524</td>\n",
       "    </tr>\n",
       "    <tr>\n",
       "      <th>9</th>\n",
       "      <td>5/2/2022</td>\n",
       "      <td>902.94</td>\n",
       "      <td>860.77</td>\n",
       "      <td>906.36</td>\n",
       "      <td>848.030</td>\n",
       "      <td>25260456</td>\n",
       "    </tr>\n",
       "  </tbody>\n",
       "</table>\n",
       "</div>"
      ],
      "text/plain": [
       "        Date  Last Price  Open Price  High Price  Low Price    Volume\n",
       "0  5/13/2022      769.59      773.48      787.35    751.565  30716908\n",
       "1  5/12/2022      728.00      701.00      759.66    680.000  46770952\n",
       "2  5/11/2022      734.00      795.00      809.77    727.200  32408152\n",
       "3  5/10/2022      800.04      819.31      825.36    774.250  28133876\n",
       "4   5/9/2022      787.11      836.45      845.63    781.150  30270074\n",
       "5   5/6/2022      865.65      887.00      888.00    843.105  24301036\n",
       "6   5/5/2022      873.28      939.21      945.60    857.700  30839732\n",
       "7   5/4/2022      952.62      903.94      955.50    885.280  27214568\n",
       "8   5/3/2022      909.25      903.18      924.08    888.590  21236524\n",
       "9   5/2/2022      902.94      860.77      906.36    848.030  25260456"
      ]
     },
     "execution_count": 3,
     "metadata": {},
     "output_type": "execute_result"
    }
   ],
   "source": [
    "df.head(10)"
   ]
  },
  {
   "cell_type": "code",
   "execution_count": 5,
   "metadata": {},
   "outputs": [
    {
     "data": {
      "text/plain": [
       "(507, 6)"
      ]
     },
     "execution_count": 5,
     "metadata": {},
     "output_type": "execute_result"
    }
   ],
   "source": [
    "df.shape"
   ]
  },
  {
   "cell_type": "code",
   "execution_count": 6,
   "metadata": {},
   "outputs": [
    {
     "data": {
      "text/html": [
       "<div>\n",
       "<style scoped>\n",
       "    .dataframe tbody tr th:only-of-type {\n",
       "        vertical-align: middle;\n",
       "    }\n",
       "\n",
       "    .dataframe tbody tr th {\n",
       "        vertical-align: top;\n",
       "    }\n",
       "\n",
       "    .dataframe thead th {\n",
       "        text-align: right;\n",
       "    }\n",
       "</style>\n",
       "<table border=\"1\" class=\"dataframe\">\n",
       "  <thead>\n",
       "    <tr style=\"text-align: right;\">\n",
       "      <th></th>\n",
       "      <th>Date</th>\n",
       "      <th>Last Price</th>\n",
       "      <th>Open Price</th>\n",
       "      <th>High Price</th>\n",
       "      <th>Low Price</th>\n",
       "      <th>Volume</th>\n",
       "    </tr>\n",
       "  </thead>\n",
       "  <tbody>\n",
       "    <tr>\n",
       "      <th>0</th>\n",
       "      <td>5/12/2020</td>\n",
       "      <td>161.882</td>\n",
       "      <td>165.400</td>\n",
       "      <td>168.658</td>\n",
       "      <td>161.600</td>\n",
       "      <td>79534528</td>\n",
       "    </tr>\n",
       "    <tr>\n",
       "      <th>1</th>\n",
       "      <td>5/13/2020</td>\n",
       "      <td>158.192</td>\n",
       "      <td>164.166</td>\n",
       "      <td>165.200</td>\n",
       "      <td>152.660</td>\n",
       "      <td>95327456</td>\n",
       "    </tr>\n",
       "    <tr>\n",
       "      <th>2</th>\n",
       "      <td>5/14/2020</td>\n",
       "      <td>160.666</td>\n",
       "      <td>156.000</td>\n",
       "      <td>160.672</td>\n",
       "      <td>152.800</td>\n",
       "      <td>68410944</td>\n",
       "    </tr>\n",
       "    <tr>\n",
       "      <th>3</th>\n",
       "      <td>5/15/2020</td>\n",
       "      <td>159.834</td>\n",
       "      <td>158.070</td>\n",
       "      <td>161.010</td>\n",
       "      <td>157.310</td>\n",
       "      <td>52592140</td>\n",
       "    </tr>\n",
       "    <tr>\n",
       "      <th>4</th>\n",
       "      <td>5/18/2020</td>\n",
       "      <td>162.726</td>\n",
       "      <td>165.556</td>\n",
       "      <td>166.944</td>\n",
       "      <td>160.776</td>\n",
       "      <td>58490512</td>\n",
       "    </tr>\n",
       "    <tr>\n",
       "      <th>...</th>\n",
       "      <td>...</td>\n",
       "      <td>...</td>\n",
       "      <td>...</td>\n",
       "      <td>...</td>\n",
       "      <td>...</td>\n",
       "      <td>...</td>\n",
       "    </tr>\n",
       "    <tr>\n",
       "      <th>502</th>\n",
       "      <td>5/9/2022</td>\n",
       "      <td>787.110</td>\n",
       "      <td>836.450</td>\n",
       "      <td>845.630</td>\n",
       "      <td>781.150</td>\n",
       "      <td>30270074</td>\n",
       "    </tr>\n",
       "    <tr>\n",
       "      <th>503</th>\n",
       "      <td>5/10/2022</td>\n",
       "      <td>800.040</td>\n",
       "      <td>819.310</td>\n",
       "      <td>825.360</td>\n",
       "      <td>774.250</td>\n",
       "      <td>28133876</td>\n",
       "    </tr>\n",
       "    <tr>\n",
       "      <th>504</th>\n",
       "      <td>5/11/2022</td>\n",
       "      <td>734.000</td>\n",
       "      <td>795.000</td>\n",
       "      <td>809.770</td>\n",
       "      <td>727.200</td>\n",
       "      <td>32408152</td>\n",
       "    </tr>\n",
       "    <tr>\n",
       "      <th>505</th>\n",
       "      <td>5/12/2022</td>\n",
       "      <td>728.000</td>\n",
       "      <td>701.000</td>\n",
       "      <td>759.660</td>\n",
       "      <td>680.000</td>\n",
       "      <td>46770952</td>\n",
       "    </tr>\n",
       "    <tr>\n",
       "      <th>506</th>\n",
       "      <td>5/13/2022</td>\n",
       "      <td>769.590</td>\n",
       "      <td>773.480</td>\n",
       "      <td>787.350</td>\n",
       "      <td>751.565</td>\n",
       "      <td>30716908</td>\n",
       "    </tr>\n",
       "  </tbody>\n",
       "</table>\n",
       "<p>507 rows × 6 columns</p>\n",
       "</div>"
      ],
      "text/plain": [
       "          Date  Last Price  Open Price  High Price  Low Price    Volume\n",
       "0    5/12/2020     161.882     165.400     168.658    161.600  79534528\n",
       "1    5/13/2020     158.192     164.166     165.200    152.660  95327456\n",
       "2    5/14/2020     160.666     156.000     160.672    152.800  68410944\n",
       "3    5/15/2020     159.834     158.070     161.010    157.310  52592140\n",
       "4    5/18/2020     162.726     165.556     166.944    160.776  58490512\n",
       "..         ...         ...         ...         ...        ...       ...\n",
       "502   5/9/2022     787.110     836.450     845.630    781.150  30270074\n",
       "503  5/10/2022     800.040     819.310     825.360    774.250  28133876\n",
       "504  5/11/2022     734.000     795.000     809.770    727.200  32408152\n",
       "505  5/12/2022     728.000     701.000     759.660    680.000  46770952\n",
       "506  5/13/2022     769.590     773.480     787.350    751.565  30716908\n",
       "\n",
       "[507 rows x 6 columns]"
      ]
     },
     "execution_count": 6,
     "metadata": {},
     "output_type": "execute_result"
    }
   ],
   "source": [
    "#Reversed the column order\n",
    "df = df.loc[::-1].reset_index(drop=True)\n",
    "df"
   ]
  },
  {
   "cell_type": "code",
   "execution_count": 7,
   "metadata": {
    "scrolled": true
   },
   "outputs": [
    {
     "data": {
      "text/plain": [
       "(507, 6)"
      ]
     },
     "execution_count": 7,
     "metadata": {},
     "output_type": "execute_result"
    }
   ],
   "source": [
    "df.shape"
   ]
  },
  {
   "cell_type": "code",
   "execution_count": 8,
   "metadata": {},
   "outputs": [
    {
     "data": {
      "text/html": [
       "<div>\n",
       "<style scoped>\n",
       "    .dataframe tbody tr th:only-of-type {\n",
       "        vertical-align: middle;\n",
       "    }\n",
       "\n",
       "    .dataframe tbody tr th {\n",
       "        vertical-align: top;\n",
       "    }\n",
       "\n",
       "    .dataframe thead th {\n",
       "        text-align: right;\n",
       "    }\n",
       "</style>\n",
       "<table border=\"1\" class=\"dataframe\">\n",
       "  <thead>\n",
       "    <tr style=\"text-align: right;\">\n",
       "      <th></th>\n",
       "      <th>Last Price</th>\n",
       "      <th>Open Price</th>\n",
       "      <th>High Price</th>\n",
       "      <th>Low Price</th>\n",
       "      <th>Volume</th>\n",
       "    </tr>\n",
       "  </thead>\n",
       "  <tbody>\n",
       "    <tr>\n",
       "      <th>count</th>\n",
       "      <td>507.000000</td>\n",
       "      <td>507.000000</td>\n",
       "      <td>507.000000</td>\n",
       "      <td>507.000000</td>\n",
       "      <td>5.070000e+02</td>\n",
       "    </tr>\n",
       "    <tr>\n",
       "      <th>mean</th>\n",
       "      <td>679.582588</td>\n",
       "      <td>679.954653</td>\n",
       "      <td>696.236856</td>\n",
       "      <td>662.604199</td>\n",
       "      <td>3.829159e+07</td>\n",
       "    </tr>\n",
       "    <tr>\n",
       "      <th>std</th>\n",
       "      <td>260.643201</td>\n",
       "      <td>261.549649</td>\n",
       "      <td>267.584267</td>\n",
       "      <td>254.502807</td>\n",
       "      <td>2.534804e+07</td>\n",
       "    </tr>\n",
       "    <tr>\n",
       "      <th>min</th>\n",
       "      <td>158.192000</td>\n",
       "      <td>156.000000</td>\n",
       "      <td>160.672000</td>\n",
       "      <td>152.660000</td>\n",
       "      <td>9.800558e+06</td>\n",
       "    </tr>\n",
       "    <tr>\n",
       "      <th>25%</th>\n",
       "      <td>448.520000</td>\n",
       "      <td>450.045000</td>\n",
       "      <td>461.970000</td>\n",
       "      <td>437.942000</td>\n",
       "      <td>2.227571e+07</td>\n",
       "    </tr>\n",
       "    <tr>\n",
       "      <th>50%</th>\n",
       "      <td>691.050000</td>\n",
       "      <td>690.110000</td>\n",
       "      <td>706.700000</td>\n",
       "      <td>673.700000</td>\n",
       "      <td>3.011216e+07</td>\n",
       "    </tr>\n",
       "    <tr>\n",
       "      <th>75%</th>\n",
       "      <td>863.790000</td>\n",
       "      <td>857.520000</td>\n",
       "      <td>878.015000</td>\n",
       "      <td>840.195000</td>\n",
       "      <td>4.511972e+07</td>\n",
       "    </tr>\n",
       "    <tr>\n",
       "      <th>max</th>\n",
       "      <td>1229.910000</td>\n",
       "      <td>1234.410000</td>\n",
       "      <td>1243.490000</td>\n",
       "      <td>1217.000000</td>\n",
       "      <td>2.221262e+08</td>\n",
       "    </tr>\n",
       "  </tbody>\n",
       "</table>\n",
       "</div>"
      ],
      "text/plain": [
       "        Last Price   Open Price   High Price    Low Price        Volume\n",
       "count   507.000000   507.000000   507.000000   507.000000  5.070000e+02\n",
       "mean    679.582588   679.954653   696.236856   662.604199  3.829159e+07\n",
       "std     260.643201   261.549649   267.584267   254.502807  2.534804e+07\n",
       "min     158.192000   156.000000   160.672000   152.660000  9.800558e+06\n",
       "25%     448.520000   450.045000   461.970000   437.942000  2.227571e+07\n",
       "50%     691.050000   690.110000   706.700000   673.700000  3.011216e+07\n",
       "75%     863.790000   857.520000   878.015000   840.195000  4.511972e+07\n",
       "max    1229.910000  1234.410000  1243.490000  1217.000000  2.221262e+08"
      ]
     },
     "execution_count": 8,
     "metadata": {},
     "output_type": "execute_result"
    }
   ],
   "source": [
    "df.describe()"
   ]
  },
  {
   "cell_type": "code",
   "execution_count": 9,
   "metadata": {},
   "outputs": [
    {
     "name": "stdout",
     "output_type": "stream",
     "text": [
      "<class 'pandas.core.frame.DataFrame'>\n",
      "RangeIndex: 507 entries, 0 to 506\n",
      "Data columns (total 6 columns):\n",
      " #   Column      Non-Null Count  Dtype  \n",
      "---  ------      --------------  -----  \n",
      " 0   Date        507 non-null    object \n",
      " 1   Last Price  507 non-null    float64\n",
      " 2   Open Price  507 non-null    float64\n",
      " 3   High Price  507 non-null    float64\n",
      " 4   Low Price   507 non-null    float64\n",
      " 5   Volume      507 non-null    int64  \n",
      "dtypes: float64(4), int64(1), object(1)\n",
      "memory usage: 23.9+ KB\n"
     ]
    }
   ],
   "source": [
    "df.info()"
   ]
  },
  {
   "cell_type": "code",
   "execution_count": 11,
   "metadata": {},
   "outputs": [],
   "source": [
    "x = df[['Open Price','High Price','Low Price','Volume']].values\n",
    "y = df['Last Price'].values"
   ]
  },
  {
   "cell_type": "code",
   "execution_count": 12,
   "metadata": {},
   "outputs": [],
   "source": [
    "x_train,x_test,y_train,y_test = train_test_split(x,y,test_size=0.3, random_state = 0)"
   ]
  },
  {
   "cell_type": "code",
   "execution_count": 13,
   "metadata": {},
   "outputs": [],
   "source": [
    "regressor = LinearRegression()"
   ]
  },
  {
   "cell_type": "code",
   "execution_count": 31,
   "metadata": {},
   "outputs": [
    {
     "data": {
      "text/plain": [
       "LinearRegression()"
      ]
     },
     "execution_count": 31,
     "metadata": {},
     "output_type": "execute_result"
    }
   ],
   "source": [
    "regressor.fit(x_train,y_train)"
   ]
  },
  {
   "cell_type": "code",
   "execution_count": 15,
   "metadata": {},
   "outputs": [
    {
     "name": "stdout",
     "output_type": "stream",
     "text": [
      "[-4.01974450e-01  3.56249716e-01  1.06601734e+00  1.87853994e-07]\n"
     ]
    }
   ],
   "source": [
    "print(regressor.coef_)"
   ]
  },
  {
   "cell_type": "code",
   "execution_count": 16,
   "metadata": {},
   "outputs": [
    {
     "name": "stdout",
     "output_type": "stream",
     "text": [
      "-9.472412207246975\n"
     ]
    }
   ],
   "source": [
    "print(regressor.intercept_)"
   ]
  },
  {
   "cell_type": "code",
   "execution_count": 17,
   "metadata": {},
   "outputs": [],
   "source": [
    "predicted = regressor.predict(x_test)"
   ]
  },
  {
   "cell_type": "code",
   "execution_count": 18,
   "metadata": {},
   "outputs": [],
   "source": [
    "compare = pd.DataFrame({'Orignal': y_test.flatten(),'Predicted': predicted.flatten()})"
   ]
  },
  {
   "cell_type": "code",
   "execution_count": 34,
   "metadata": {},
   "outputs": [
    {
     "data": {
      "text/html": [
       "<div>\n",
       "<style scoped>\n",
       "    .dataframe tbody tr th:only-of-type {\n",
       "        vertical-align: middle;\n",
       "    }\n",
       "\n",
       "    .dataframe tbody tr th {\n",
       "        vertical-align: top;\n",
       "    }\n",
       "\n",
       "    .dataframe thead th {\n",
       "        text-align: right;\n",
       "    }\n",
       "</style>\n",
       "<table border=\"1\" class=\"dataframe\">\n",
       "  <thead>\n",
       "    <tr style=\"text-align: right;\">\n",
       "      <th></th>\n",
       "      <th>Orignal</th>\n",
       "      <th>Predicted</th>\n",
       "    </tr>\n",
       "  </thead>\n",
       "  <tbody>\n",
       "    <tr>\n",
       "      <th>0</th>\n",
       "      <td>735.720</td>\n",
       "      <td>737.959458</td>\n",
       "    </tr>\n",
       "    <tr>\n",
       "      <th>1</th>\n",
       "      <td>1114.000</td>\n",
       "      <td>1102.616190</td>\n",
       "    </tr>\n",
       "    <tr>\n",
       "      <th>2</th>\n",
       "      <td>640.390</td>\n",
       "      <td>631.182556</td>\n",
       "    </tr>\n",
       "    <tr>\n",
       "      <th>3</th>\n",
       "      <td>975.990</td>\n",
       "      <td>950.278476</td>\n",
       "    </tr>\n",
       "    <tr>\n",
       "      <th>4</th>\n",
       "      <td>475.050</td>\n",
       "      <td>486.193169</td>\n",
       "    </tr>\n",
       "    <tr>\n",
       "      <th>5</th>\n",
       "      <td>176.592</td>\n",
       "      <td>178.212522</td>\n",
       "    </tr>\n",
       "    <tr>\n",
       "      <th>6</th>\n",
       "      <td>1028.150</td>\n",
       "      <td>1019.371310</td>\n",
       "    </tr>\n",
       "    <tr>\n",
       "      <th>7</th>\n",
       "      <td>756.990</td>\n",
       "      <td>757.851424</td>\n",
       "    </tr>\n",
       "    <tr>\n",
       "      <th>8</th>\n",
       "      <td>710.920</td>\n",
       "      <td>721.894862</td>\n",
       "    </tr>\n",
       "    <tr>\n",
       "      <th>9</th>\n",
       "      <td>413.980</td>\n",
       "      <td>415.016252</td>\n",
       "    </tr>\n",
       "  </tbody>\n",
       "</table>\n",
       "</div>"
      ],
      "text/plain": [
       "    Orignal    Predicted\n",
       "0   735.720   737.959458\n",
       "1  1114.000  1102.616190\n",
       "2   640.390   631.182556\n",
       "3   975.990   950.278476\n",
       "4   475.050   486.193169\n",
       "5   176.592   178.212522\n",
       "6  1028.150  1019.371310\n",
       "7   756.990   757.851424\n",
       "8   710.920   721.894862\n",
       "9   413.980   415.016252"
      ]
     },
     "execution_count": 34,
     "metadata": {},
     "output_type": "execute_result"
    }
   ],
   "source": [
    "compare.head(10)"
   ]
  },
  {
   "cell_type": "code",
   "execution_count": 32,
   "metadata": {
    "scrolled": true
   },
   "outputs": [
    {
     "name": "stdout",
     "output_type": "stream",
     "text": [
      "Mean Absolute Error: 9.58185750635081\n"
     ]
    }
   ],
   "source": [
    "print('Mean Absolute Error:', metrics.mean_absolute_error(y_test, predicted))"
   ]
  },
  {
   "cell_type": "code",
   "execution_count": 22,
   "metadata": {
    "scrolled": true
   },
   "outputs": [
    {
     "name": "stdout",
     "output_type": "stream",
     "text": [
      "Mean Squared Error: 184.0609342320926\n"
     ]
    }
   ],
   "source": [
    "print('Mean Squared Error:', metrics.mean_squared_error(y_test, predicted))"
   ]
  },
  {
   "cell_type": "code",
   "execution_count": 23,
   "metadata": {
    "scrolled": true
   },
   "outputs": [
    {
     "name": "stdout",
     "output_type": "stream",
     "text": [
      "Root Mean Squared Error: 13.566905845921266\n"
     ]
    }
   ],
   "source": [
    "print('Root Mean Squared Error:' , math.sqrt(metrics.mean_squared_error(y_test, predicted)))                                                "
   ]
  },
  {
   "cell_type": "code",
   "execution_count": 24,
   "metadata": {},
   "outputs": [
    {
     "name": "stdout",
     "output_type": "stream",
     "text": [
      "99.7606822829674 %\n"
     ]
    }
   ],
   "source": [
    "r2_score = regressor.score(x_test,y_test)\n",
    "print(r2_score*100,'%')"
   ]
  },
  {
   "cell_type": "code",
   "execution_count": 33,
   "metadata": {},
   "outputs": [],
   "source": [
    "graph = compare.head(20)"
   ]
  },
  {
   "cell_type": "code",
   "execution_count": 41,
   "metadata": {},
   "outputs": [
    {
     "data": {
      "text/plain": [
       "<AxesSubplot:>"
      ]
     },
     "execution_count": 41,
     "metadata": {},
     "output_type": "execute_result"
    },
    {
     "data": {
      "image/png": "[encoded data removed]",
      "text/plain": [
       "<Figure size 432x288 with 1 Axes>"
      ]
     },
     "metadata": {
      "needs_background": "light"
     },
     "output_type": "display_data"
    }
   ],
   "source": [
    "graph.plot(kind='bar')"
   ]
  },
  {
   "cell_type": "code",
   "execution_count": null,
   "metadata": {},
   "outputs": [],
   "source": []
  }
 ],
 "metadata": {
  "kernelspec": {
   "display_name": "Python 3",
   "language": "python",
   "name": "python3"
  },
  "language_info": {
   "codemirror_mode": {
    "name": "ipython",
    "version": 3
   },
   "file_extension": ".py",
   "mimetype": "text/x-python",
   "name": "python",
   "nbconvert_exporter": "python",
   "pygments_lexer": "ipython3",
   "version": "3.8.5"
  }
 },
 "nbformat": 4,
 "nbformat_minor": 4
}
